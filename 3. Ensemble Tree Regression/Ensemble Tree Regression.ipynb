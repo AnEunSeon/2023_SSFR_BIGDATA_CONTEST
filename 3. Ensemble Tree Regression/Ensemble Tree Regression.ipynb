{
 "cells": [
  {
   "cell_type": "code",
   "execution_count": null,
   "id": "9ccf98d0",
   "metadata": {},
   "outputs": [],
   "source": [
    "from sklearn.tree import DecisionTreeRegressor\n",
    "from sklearn.ensemble import RandomForestRegressor, GradientBoostingRegressor, VotingRegressor\n",
    "from sklearn.metrics import mean_squared_error"
   ]
  },
  {
   "cell_type": "code",
   "execution_count": null,
   "id": "0fbb0580",
   "metadata": {},
   "outputs": [],
   "source": [
    "X=pd.concat([X,y],axis=1)\n",
    "y=tree_y_train\n",
    "tree_df=pd.concat([X,y],axis=1)"
   ]
  },
  {
   "cell_type": "code",
   "execution_count": null,
   "id": "9af75c5c",
   "metadata": {},
   "outputs": [],
   "source": [
    "#고위험군/저위험군 모델링을 위한 데이터셋 분리\n",
    "up_df=tree_df[tree_df['고위험']==1]\n",
    "low_df=tree_df[tree_df['고위험']==0]"
   ]
  },
  {
   "cell_type": "code",
   "execution_count": null,
   "id": "1060bdc5",
   "metadata": {},
   "outputs": [],
   "source": [
    "#고위험군 Ensemble Regressor fitting\n",
    "up_X=up_df.drop(['고위험','사고율'],axis=1)\n",
    "up_y=up_df['사고율']\n",
    "\n",
    "dt_model1=DecisionTreeRegressor(random_state=42)\n",
    "rf_model1=RandomForestRegressor(random_state=42)\n",
    "gb_model1=GradientBoostingRegressor(random_state=42)\n",
    "\n",
    "ensemble_model1=VotingRegressor(estimators=[('dt', dt_model1), ('rf', rf_model1), ('gb', gb_model1)])\n",
    "ensemble_model1.fit(up_X, up_y)"
   ]
  },
  {
   "cell_type": "code",
   "execution_count": null,
   "id": "b267f18e",
   "metadata": {},
   "outputs": [],
   "source": [
    "dt_model1.fit(up_X, up_y)\n",
    "rf_model1.fit(up_X, up_y)\n",
    "gb_model1.fit(up_X, up_y)"
   ]
  },
  {
   "cell_type": "code",
   "execution_count": null,
   "id": "9ef2a35d",
   "metadata": {},
   "outputs": [],
   "source": [
    "#Feature Importance(변수 기여도) 확인\n",
    "dt_feature_importance = dt_model1.feature_importances_\n",
    "rf_feature_importance = rf_model1.feature_importances_\n",
    "gb_feature_importance = gb_model1.feature_importances_\n",
    "\n",
    "ensemble_feature_importance = (dt_feature_importance + rf_feature_importance + gb_feature_importance) / 3"
   ]
  },
  {
   "cell_type": "code",
   "execution_count": null,
   "id": "731d416b",
   "metadata": {},
   "outputs": [],
   "source": [
    "feature_names = up_X.columns\n",
    "sorted_idx = ensemble_feature_importance.argsort()[::-1]\n",
    "top_n = 10\n",
    "top_feature_names = [feature_names[i] for i in sorted_idx[:top_n]]\n",
    "top_feature_importance = ensemble_feature_importance[sorted_idx[:top_n]]\n",
    "\n",
    "plt.figure(figsize=(10, 6))\n",
    "plt.barh(top_feature_names, top_feature_importance)\n",
    "plt.xlabel('특성 중요도')\n",
    "plt.ylabel('특성')\n",
    "plt.title('앙상블 모델의 특성 중요도')\n",
    "plt.gca().invert_yaxis()\n",
    "plt.show()"
   ]
  },
  {
   "cell_type": "code",
   "execution_count": null,
   "id": "a2a84469",
   "metadata": {},
   "outputs": [],
   "source": [
    "#SHAP Value 확인\n",
    "import shap\n",
    "up_explainer_dt = shap.Explainer(dt_model1)\n",
    "up_explainer_rf = shap.Explainer(rf_model1)\n",
    "up_explainer_gb = shap.Explainer(gb_model1)"
   ]
  },
  {
   "cell_type": "code",
   "execution_count": null,
   "id": "51987ee0",
   "metadata": {},
   "outputs": [],
   "source": [
    "#저위험군 Ensemble Regressor fitting\n",
    "low_X=low_df.drop(['고위험','사고율'],axis=1)\n",
    "low_y=low_df['사고율']\n",
    "\n",
    "dt_model2=DecisionTreeRegressor(random_state=42)\n",
    "rf_model2=RandomForestRegressor(random_state=42)\n",
    "gb_model2=GradientBoostingRegressor(random_state=42)\n",
    "\n",
    "ensemble_model2=VotingRegressor(estimators=[('dt', dt_model2), ('rf', rf_model2), ('gb', gb_model2)])\n",
    "ensemble_model2.fit(low_X, low_y)"
   ]
  },
  {
   "cell_type": "code",
   "execution_count": null,
   "id": "d226b4ff",
   "metadata": {},
   "outputs": [],
   "source": [
    "dt_model2.fit(low_X, low_y)\n",
    "rf_model2.fit(low_X, low_y)\n",
    "gb_model2.fit(low_X, low_y)"
   ]
  },
  {
   "cell_type": "code",
   "execution_count": null,
   "id": "abd9434a",
   "metadata": {},
   "outputs": [],
   "source": [
    "#Feature Importance(변수 기여도) 확인\n",
    "dt_feature_importance = dt_model2.feature_importances_\n",
    "rf_feature_importance = rf_model2.feature_importances_\n",
    "gb_feature_importance = gb_model2.feature_importances_\n",
    "\n",
    "ensemble_feature_importance = (dt_feature_importance + rf_feature_importance + gb_feature_importance) / 3"
   ]
  },
  {
   "cell_type": "code",
   "execution_count": null,
   "id": "dc692199",
   "metadata": {},
   "outputs": [],
   "source": [
    "feature_names = low_X.columns\n",
    "sorted_idx = ensemble_feature_importance.argsort()[::-1]\n",
    "top_n = 10\n",
    "top_feature_names = [feature_names[i] for i in sorted_idx[:top_n]]\n",
    "top_feature_importance = ensemble_feature_importance[sorted_idx[:top_n]]\n",
    "\n",
    "plt.figure(figsize=(10, 6))\n",
    "plt.barh(top_feature_names, top_feature_importance)\n",
    "plt.xlabel('특성 중요도')\n",
    "plt.ylabel('특성')\n",
    "plt.title('앙상블 모델의 특성 중요도')\n",
    "plt.gca().invert_yaxis()\n",
    "\n",
    "plt.show()"
   ]
  },
  {
   "cell_type": "code",
   "execution_count": null,
   "id": "f6a04560",
   "metadata": {},
   "outputs": [],
   "source": [
    "#SHAP Value 확인\n",
    "low_explainer_dt = shap.Explainer(dt_model2)\n",
    "low_explainer_rf = shap.Explainer(rf_model2)\n",
    "low_explainer_gb = shap.Explainer(gb_model2)"
   ]
  }
 ],
 "metadata": {
  "kernelspec": {
   "display_name": "Python 3 (ipykernel)",
   "language": "python",
   "name": "python3"
  },
  "language_info": {
   "codemirror_mode": {
    "name": "ipython",
    "version": 3
   },
   "file_extension": ".py",
   "mimetype": "text/x-python",
   "name": "python",
   "nbconvert_exporter": "python",
   "pygments_lexer": "ipython3",
   "version": "3.9.13"
  }
 },
 "nbformat": 4,
 "nbformat_minor": 5
}
