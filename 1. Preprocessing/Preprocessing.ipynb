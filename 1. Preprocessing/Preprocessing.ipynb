{
 "cells": [
  {
   "cell_type": "code",
   "execution_count": null,
   "id": "179f59e1",
   "metadata": {},
   "outputs": [],
   "source": [
    "import numpy as np\n",
    "import pandas as pd"
   ]
  },
  {
   "cell_type": "code",
   "execution_count": null,
   "id": "cda9fccf",
   "metadata": {},
   "outputs": [],
   "source": [
    "df1=pd.read_csv('/(자동차보험) 고객별 사고 발생률 예측 모델링_1.csv')\n",
    "df2=pd.read_csv('/(자동차보험) 고객별 사고 발생률 예측 모델링_2.csv')\n",
    "df3=pd.read_csv('/(자동차보험) 고객별 사고 발생률 예측 모델링_3.csv')"
   ]
  },
  {
   "cell_type": "code",
   "execution_count": null,
   "id": "45192700",
   "metadata": {},
   "outputs": [],
   "source": [
    "df=pd.concat([df1,df2,df3],axis=0)"
   ]
  },
  {
   "cell_type": "code",
   "execution_count": null,
   "id": "2ec3ee24",
   "metadata": {},
   "outputs": [],
   "source": [
    "df.reset_index(inplace=True)\n",
    "df.drop('index',axis=1,inplace=True)"
   ]
  },
  {
   "cell_type": "code",
   "execution_count": null,
   "id": "ccc33e8c",
   "metadata": {},
   "outputs": [],
   "source": [
    "#분석에 의미 없는 변수(열) 제거 \n",
    "df=df.drop(['A','B'],axis=1)\n",
    "\n",
    "#유효대수가 0인 관측치 제거 (사고율 계산이 불가하기 때문)\n",
    "df=df[df['C']!=0]"
   ]
  },
  {
   "cell_type": "code",
   "execution_count": null,
   "id": "551fe0cf",
   "metadata": {},
   "outputs": [],
   "source": [
    "#결측치 확인\n",
    "df.isnull().sum()"
   ]
  },
  {
   "cell_type": "code",
   "execution_count": null,
   "id": "88fbbe25",
   "metadata": {},
   "outputs": [],
   "source": [
    "#결측치 제거\n",
    "df=df.dropna(subset=['D'])"
   ]
  },
  {
   "cell_type": "code",
   "execution_count": null,
   "id": "e645487d",
   "metadata": {},
   "outputs": [],
   "source": [
    "#이상치로 추정되는 값 제거\n",
    "df=df[(df['E']!=0)&(df['E']!=10)&(df['E']!=90)&(df['E']!=100)]"
   ]
  },
  {
   "cell_type": "code",
   "execution_count": null,
   "id": "1b71ec12",
   "metadata": {},
   "outputs": [],
   "source": [
    "#변수설명테이블에 정의되지 않은 값을 가진 관측치 제거 \n",
    "df=df[(df['G']!='0')&(df['G']!='Z')]"
   ]
  },
  {
   "cell_type": "code",
   "execution_count": null,
   "id": "25d97620",
   "metadata": {},
   "outputs": [],
   "source": [
    "#순서형 범주형 자료에 대한 Label Encoding 진행\n",
    "ord_map1={'a':1,'b':2,'c':3,'d':4,'e':5,'f':6,'g':7,'h':8}\n",
    "df['E']=df['E'].map(ord_map1)\n",
    "\n",
    "ord_map2={'a':1,'b':2,'c':3,'d':4,'e':5,'f':5}\n",
    "df['I']=df['I'].map(ord_map2)\n",
    "\n",
    "ord_map3={'a':1,'b':2,'c':3,'d':4}\n",
    "df['L']=df['L'].map(ord_map3)\n",
    "\n",
    "ord_map4={'a':1,'b':2,'c':3,'d':4,'e':5,'f':6,'g':7}\n",
    "df['N']=df['N'].map(ord_map4)\n",
    "\n",
    "ord_map5={'a':1,'b':2,'c':3,'d':4}\n",
    "df['H']=df['H'].map(ord_map5)\n",
    "\n",
    "ord_map6={'a':1,'b':2,'c':3,'d':4}\n",
    "df['G']=df['G'].map(ord_map6)"
   ]
  },
  {
   "cell_type": "code",
   "execution_count": null,
   "id": "f37680e7",
   "metadata": {},
   "outputs": [],
   "source": [
    "#이진형 범주형 자료에 대한 Encoding 진행 \n",
    "#기존 데이터에서 범위가 (1,2)였던 것을 (0,1)으로 변경\n",
    "df['F']=df['F']-1\n",
    "df['D']=df['D']-1\n",
    "bin_map={'a':0,'b':1}\n",
    "df['M']=df['M'].map(bin_map)"
   ]
  },
  {
   "cell_type": "code",
   "execution_count": null,
   "id": "3dc8ad9b",
   "metadata": {},
   "outputs": [],
   "source": [
    "#모델링의 종속변수로 사용할 사고율 계산\n",
    "df['사고율']=df['O']/df['C']"
   ]
  },
  {
   "cell_type": "code",
   "execution_count": null,
   "id": "5f8195c7",
   "metadata": {},
   "outputs": [],
   "source": [
    "import seaborn as sns\n",
    "import matplotlib.pyplot as plt\n",
    "import scipy.stats as stats"
   ]
  },
  {
   "cell_type": "code",
   "execution_count": null,
   "id": "d6b292ee",
   "metadata": {},
   "outputs": [],
   "source": [
    "#순서형과 명목형 범주 관계에 대해 상관계수를 파악할 수 있는 방법이 없기 때문에 명목형 범주형 자료 제거\n",
    "corr_df=df.drop(['D','F','M','C','O','J','사고율'],axis=1)\n",
    "#상관관계 분석\n",
    "corr_df=corr_df.corr(method='spearman',min_periods=1)\n",
    "corr_df"
   ]
  },
  {
   "cell_type": "code",
   "execution_count": null,
   "id": "adb42124",
   "metadata": {},
   "outputs": [],
   "source": [
    "#상관관계 시각화\n",
    "plt.rcParams['font.family'] ='Malgun Gothic'\n",
    "plt.rcParams['axes.unicode_minus'] =False\n",
    "sns.heatmap(corr_df,annot=True,linewidths=.5,cmap='Blues')"
   ]
  },
  {
   "cell_type": "code",
   "execution_count": null,
   "id": "b1f85b13",
   "metadata": {},
   "outputs": [],
   "source": [
    "#사고율 box plot 시각화\n",
    "plt.figure(figsize=(8, 4))\n",
    "sns.boxplot(y=df['사고율'], color=\"tomato\")\n",
    "plt.title(\"사고율 박스 플랏\", fontsize=14)\n",
    "plt.xlabel(\"사고율\")\n",
    "plt.show()"
   ]
  },
  {
   "cell_type": "code",
   "execution_count": null,
   "id": "024acc35",
   "metadata": {},
   "outputs": [],
   "source": [
    "#사고율 histogram 시각화각화\n",
    "plt.figure(figsize=(10, 5))\n",
    "sns.histplot(df['사고율'], bins=300, kde=True, color=\"royalblue\", edgecolor=\"black\")\n",
    "plt.xlim(0, 5)\n",
    "plt.title(\"사고율 분포\", fontsize=14)\n",
    "plt.xlabel(\"사고율\")\n",
    "plt.ylabel(\"빈도\")\n",
    "plt.show()"
   ]
  }
 ],
 "metadata": {
  "kernelspec": {
   "display_name": "Python 3 (ipykernel)",
   "language": "python",
   "name": "python3"
  },
  "language_info": {
   "codemirror_mode": {
    "name": "ipython",
    "version": 3
   },
   "file_extension": ".py",
   "mimetype": "text/x-python",
   "name": "python",
   "nbconvert_exporter": "python",
   "pygments_lexer": "ipython3",
   "version": "3.9.13"
  }
 },
 "nbformat": 4,
 "nbformat_minor": 5
}
