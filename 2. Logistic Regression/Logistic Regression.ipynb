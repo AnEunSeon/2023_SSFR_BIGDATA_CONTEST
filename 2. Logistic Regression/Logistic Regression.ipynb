{
 "cells": [
  {
   "cell_type": "code",
   "execution_count": null,
   "id": "fd1dbd72",
   "metadata": {},
   "outputs": [],
   "source": [
    "from sklearn.model_selection import train_test_split\n",
    "from sklearn.linear_model import LogisticRegression\n",
    "import statsmodels.api as sm\n",
    "from sklearn.datasets import make_classification\n",
    "from sklearn.metrics import f1_score, roc_curve, roc_auc_score, auc, accuracy_score\n",
    "from sklearn.metrics import matthews_corrcoef\n",
    "from sklearn.metrics import accuracy_score, classification_report, confusion_matrix"
   ]
  },
  {
   "cell_type": "code",
   "execution_count": null,
   "id": "c6f68a8d",
   "metadata": {},
   "outputs": [],
   "source": [
    "#사고율이 10을 넘는 관측치는 이상치로 판단해 모델링 과정에서 제거\n",
    "mdl_df=df[df['사고율']<=10]\n",
    "mdl_df['사고율'].describe()"
   ]
  },
  {
   "cell_type": "code",
   "execution_count": null,
   "id": "7390520c",
   "metadata": {},
   "outputs": [],
   "source": [
    "#사고율이 높은 고객 탐지 성능 향상을 위해 고위험군으로 의심되는 고객을 선별적으로 분류하는 이진 분류 모델링 진행\n",
    "mdl_df['고위험']=0\n",
    "mdl_df.loc[mdl_df['사고율']>=1,'고위험']=1"
   ]
  },
  {
   "cell_type": "code",
   "execution_count": null,
   "id": "6b3d35e2",
   "metadata": {},
   "outputs": [],
   "source": [
    "#CV를 위해 데이터셋 분리\n",
    "mdl_df=mdl_df.drop(['C','O'],axis=1)\n",
    "X=mdl_df.drop(['고위험'],axis=1)\n",
    "y=mdl_df['고위험']\n",
    "X_train, X_test, y_train, y_test = train_test_split(X, y, test_size=0.2, shuffle=True, random_state=831)"
   ]
  },
  {
   "cell_type": "code",
   "execution_count": null,
   "id": "6a27e92f",
   "metadata": {},
   "outputs": [],
   "source": [
    "tree_y_train=X_train['사고율']\n",
    "X=X_train.drop('사고율',axis=1)\n",
    "tree_y_test=X_test['사고율']\n",
    "X_test=X_test.drop('사고율',axis=1)\n",
    "y=y_train"
   ]
  },
  {
   "cell_type": "code",
   "execution_count": null,
   "id": "e1e19034",
   "metadata": {},
   "outputs": [],
   "source": [
    "#One-hot Encoding\n",
    "#파이썬 logistic regression은 범주형 자료에 대해 따로 One-hot Encoding을 진행해주지 않기 때문\n",
    "X = pd.get_dummies(X, columns = ['J'], drop_first = False)\n",
    "X_test = pd.get_dummies(X_test, columns = ['J'], drop_first = False)"
   ]
  },
  {
   "cell_type": "code",
   "execution_count": null,
   "id": "3f14cef3",
   "metadata": {},
   "outputs": [],
   "source": [
    "#train-valid set 분리를 통해 train data로 성능 평가 진행 및 최적의 임계점 선정\n",
    "log_X_train, log_X_valid, log_y_train, log_y_valid = train_test_split(X, y, test_size=0.2, shuffle=True, random_state=831)"
   ]
  },
  {
   "cell_type": "code",
   "execution_count": null,
   "id": "de418f01",
   "metadata": {},
   "outputs": [],
   "source": [
    "#logistic regression 유의한 변수를 파악하기 위해 다중공선성이 높은 변수 제거\n",
    "from statsmodels.stats.outliers_influence import variance_inflation_factor\n",
    "def vif_calculate(data):\n",
    "    vif=pd.DataFrame()\n",
    "    vif[\"feature\"] = data.columns\n",
    "    vif[\"VIF\"] = [variance_inflation_factor(data.values, i) for i in range(data.shape[1])]\n",
    "    return vif"
   ]
  },
  {
   "cell_type": "code",
   "execution_count": null,
   "id": "cec070f3",
   "metadata": {},
   "outputs": [],
   "source": [
    "vif_calculate(log_X_train)"
   ]
  },
  {
   "cell_type": "code",
   "execution_count": null,
   "id": "48b934a6",
   "metadata": {},
   "outputs": [],
   "source": [
    "#다중공선성 높은 변수 제거 \n",
    "log_X_train.drop(['J_4'],axis=1,inplace=True)\n",
    "log_X_valid.drop(['J_4'],axis=1,inplace=True)"
   ]
  },
  {
   "cell_type": "code",
   "execution_count": null,
   "id": "a8b24dad",
   "metadata": {},
   "outputs": [],
   "source": [
    "vif_calculate(log_X_train)"
   ]
  },
  {
   "cell_type": "code",
   "execution_count": null,
   "id": "21823cc9",
   "metadata": {},
   "outputs": [],
   "source": [
    "#다중공선성 높은 변수 제거 \n",
    "log_X_train.drop(['K'],axis=1,inplace=True)\n",
    "log_X_valid.drop(['K'],axis=1,inplace=True)"
   ]
  },
  {
   "cell_type": "code",
   "execution_count": null,
   "id": "d66d2cad",
   "metadata": {},
   "outputs": [],
   "source": [
    "vif_calculate(log_X_train)"
   ]
  },
  {
   "cell_type": "code",
   "execution_count": null,
   "id": "6786fba2",
   "metadata": {},
   "outputs": [],
   "source": [
    "X_with_const = sm.add_constant(log_X_train)\n",
    "\n",
    "model = sm.Logit(log_y_train, X_with_const)\n",
    "result = model.fit()\n",
    "\n",
    "print(result.summary())"
   ]
  },
  {
   "cell_type": "code",
   "execution_count": null,
   "id": "1f42d349",
   "metadata": {},
   "outputs": [],
   "source": [
    "#로지스틱 회귀에서 유의하지 않은 변수 제거\n",
    "log_X_train.drop(['J_6','J_10','J_11'],axis=1,inplace=True)\n",
    "log_X_valid.drop(['J_6','J_10','J_11'],axis=1,inplace=True)"
   ]
  },
  {
   "cell_type": "code",
   "execution_count": null,
   "id": "f541b68e",
   "metadata": {},
   "outputs": [],
   "source": [
    "X_with_const = sm.add_constant(log_X_train)\n",
    "\n",
    "model = sm.Logit(log_y_train, X_with_const)\n",
    "result = model.fit()\n",
    "\n",
    "print(result.summary())"
   ]
  },
  {
   "cell_type": "code",
   "execution_count": null,
   "id": "6704eb1f",
   "metadata": {},
   "outputs": [],
   "source": [
    "#로지스틱 회귀 모델 학습\n",
    "model = LogisticRegression(solver='lbfgs', max_iter=1000)\n",
    "model.fit(log_X_train, log_y_train)"
   ]
  },
  {
   "cell_type": "code",
   "execution_count": null,
   "id": "46884a5e",
   "metadata": {},
   "outputs": [],
   "source": [
    "#valid set으로 예측\n",
    "y_pred = model.predict(log_X_valid)\n",
    "y_prob = model.predict_proba(log_X_valid)[:, 1] \n",
    "fpr, tpr, thresholds = roc_curve(log_y_valid, y_prob)"
   ]
  },
  {
   "cell_type": "code",
   "execution_count": null,
   "id": "900f8a2a",
   "metadata": {},
   "outputs": [],
   "source": [
    "#ROC 확인\n",
    "roc_auc = auc(fpr, tpr)\n",
    "roc_auc"
   ]
  },
  {
   "cell_type": "code",
   "execution_count": null,
   "id": "147ba8c4",
   "metadata": {},
   "outputs": [],
   "source": [
    "#ROC curve 시각화\n",
    "plt.figure(figsize=(8, 6))\n",
    "plt.plot(fpr, tpr, color='darkorange', lw=2, label='ROC curve (area = %0.2f)' % roc_auc)\n",
    "plt.plot([0, 1], [0, 1], color='navy', lw=2, linestyle='--')\n",
    "plt.xlim([0.0, 1.0])\n",
    "plt.ylim([0.0, 1.05])\n",
    "plt.xlabel('False Positive Rate')\n",
    "plt.ylabel('True Positive Rate')\n",
    "plt.title('Receiver Operating Characteristic (ROC)')\n",
    "plt.legend(loc='lower right')\n",
    "plt.show()"
   ]
  },
  {
   "cell_type": "code",
   "execution_count": null,
   "id": "50fb8ce0",
   "metadata": {},
   "outputs": [],
   "source": [
    "#분류 성능을 극대화시키는 분류 임계점 찾기\n",
    "optimal_idx=np.argmax(tpr-fpr)\n",
    "optimal=thresholds[optimal_idx]\n",
    "\n",
    "optimal"
   ]
  },
  {
   "cell_type": "code",
   "execution_count": null,
   "id": "65206886",
   "metadata": {},
   "outputs": [],
   "source": [
    "#test set에 동일한 전처리 진행\n",
    "X.drop(['K','J_4','J_6','J_10','J_11',],axis=1,inplace=True)\n",
    "X_test.drop(['K','J_4','J_6','J_10','J_11',],axis=1,inplace=True)"
   ]
  },
  {
   "cell_type": "code",
   "execution_count": null,
   "id": "f434e2dc",
   "metadata": {},
   "outputs": [],
   "source": [
    "#전체 train data로 재학습\n",
    "model = LogisticRegression(solver='lbfgs', max_iter=1000)\n",
    "model.fit(X, y)"
   ]
  }
 ],
 "metadata": {
  "kernelspec": {
   "display_name": "Python 3 (ipykernel)",
   "language": "python",
   "name": "python3"
  },
  "language_info": {
   "codemirror_mode": {
    "name": "ipython",
    "version": 3
   },
   "file_extension": ".py",
   "mimetype": "text/x-python",
   "name": "python",
   "nbconvert_exporter": "python",
   "pygments_lexer": "ipython3",
   "version": "3.9.13"
  }
 },
 "nbformat": 4,
 "nbformat_minor": 5
}
