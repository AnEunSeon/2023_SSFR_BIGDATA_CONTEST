{
 "cells": [
  {
   "cell_type": "code",
   "execution_count": null,
   "id": "d60ed02b",
   "metadata": {},
   "outputs": [],
   "source": [
    "#test data 예측\n",
    "y_prob=model.predict_proba(X_test)[:,1]\n",
    "y_pred=(y_prob>optimal).astype(int)"
   ]
  },
  {
   "cell_type": "code",
   "execution_count": null,
   "id": "340090f6",
   "metadata": {},
   "outputs": [],
   "source": [
    "test_pred=pd.DataFrame(y_pred,columns=['고위험군 예측'])\n",
    "idx=X_test.index\n",
    "test_pred.set_index(idx,inplace=True)"
   ]
  },
  {
   "cell_type": "code",
   "execution_count": null,
   "id": "9534e2cb",
   "metadata": {},
   "outputs": [],
   "source": [
    "X_test=pd.concat([X_test,test_pred],axis=1)"
   ]
  },
  {
   "cell_type": "code",
   "execution_count": null,
   "id": "69d45f78",
   "metadata": {},
   "outputs": [],
   "source": [
    "#성능 확인\n",
    "report = classification_report(y_test, y_pred)\n",
    "print(\"분류 보고서:\\n\", report)"
   ]
  },
  {
   "cell_type": "code",
   "execution_count": null,
   "id": "bda6f6e2",
   "metadata": {},
   "outputs": [],
   "source": [
    "#정확도 확인\n",
    "accuracy_score(y_test,y_pred)"
   ]
  },
  {
   "cell_type": "code",
   "execution_count": null,
   "id": "b5b64f60",
   "metadata": {},
   "outputs": [],
   "source": [
    "#f1 score 확인\n",
    "f1_score(y_test,y_pred)"
   ]
  },
  {
   "cell_type": "code",
   "execution_count": null,
   "id": "4a09562b",
   "metadata": {},
   "outputs": [],
   "source": [
    "#macro f1 score 확인\n",
    "f1_score(y_test,y_pred,average='macro')"
   ]
  },
  {
   "cell_type": "code",
   "execution_count": null,
   "id": "c6fd7827",
   "metadata": {},
   "outputs": [],
   "source": [
    "confusion = confusion_matrix(y_test,y_pred)\n",
    "confusion"
   ]
  },
  {
   "cell_type": "code",
   "execution_count": null,
   "id": "792573a3",
   "metadata": {},
   "outputs": [],
   "source": [
    "y_test=tree_y_test\n",
    "tree_test_df=pd.concat([X_test,y_test],axis=1)"
   ]
  },
  {
   "cell_type": "code",
   "execution_count": null,
   "id": "af456f0f",
   "metadata": {},
   "outputs": [],
   "source": [
    "#고위험군/저위험군 모델링을 위한 데이터셋 분리\n",
    "up_test_df=tree_test_df[tree_test_df['고위험군 예측']==1]\n",
    "low_test_df=tree_test_df[tree_test_df['고위험군 예측']==0]"
   ]
  },
  {
   "cell_type": "code",
   "execution_count": null,
   "id": "d8aecfd5",
   "metadata": {},
   "outputs": [],
   "source": [
    "#고위험군 예상 고객 Ensemble Regressor 예측\n",
    "up_X_test=up_test_df.drop(['고위험군 예측','사고율'],axis=1)\n",
    "up_y_test=up_test_df['사고율']\n",
    "\n",
    "y_pred = ensemble_model1.predict(up_X_test)\n",
    "\n",
    "up_test_pred=pd.DataFrame(y_pred,columns=['예상 사고율'])\n",
    "idx=up_X_test.index\n",
    "up_test_pred.set_index(idx,inplace=True)"
   ]
  },
  {
   "cell_type": "code",
   "execution_count": null,
   "id": "b47bfdfd",
   "metadata": {},
   "outputs": [],
   "source": [
    "#예측값에 대한 SHAP Value 값 추출\n",
    "shap_values1 = up_explainer_dt(up_X_test)\n",
    "shap_values2 = up_explainer_rf(up_X_test)\n",
    "shap_values3 = up_explainer_gb(up_X_test)\n",
    "up_ensemble_shap_values = (shap_values1 + shap_values2 + shap_values3) / 3"
   ]
  },
  {
   "cell_type": "code",
   "execution_count": null,
   "id": "6ccd51b1",
   "metadata": {},
   "outputs": [],
   "source": [
    "#SHAP Value 시각화\n",
    "shap.summary_plot(up_ensemble_shap_values,up_X_test)"
   ]
  },
  {
   "cell_type": "code",
   "execution_count": null,
   "id": "3569f17f",
   "metadata": {},
   "outputs": [],
   "source": [
    "#저위험군 예상 고객 Ensemble Regressor 예측\n",
    "low_X_test=low_test_df.drop(['고위험군 예측','사고율'],axis=1)\n",
    "low_y_test=low_test_df['사고율']\n",
    "\n",
    "y_pred = ensemble_model2.predict(low_X_test)\n",
    "\n",
    "low_test_pred=pd.DataFrame(y_pred,columns=['예상 사고율'])\n",
    "idx=low_X_test.index\n",
    "low_test_pred.set_index(idx,inplace=True)"
   ]
  },
  {
   "cell_type": "code",
   "execution_count": null,
   "id": "5c50dc32",
   "metadata": {},
   "outputs": [],
   "source": [
    "#예측값에 대한 SHAP Value 값 추출\n",
    "shap_values4 = low_explainer_dt(low_X_test)\n",
    "shap_values5 = low_explainer_rf(low_X_test)\n",
    "shap_values6 = low_explainer_gb(low_X_test)\n",
    "low_ensemble_shap_values = (shap_values4 + shap_values5 + shap_values6) / 3"
   ]
  },
  {
   "cell_type": "code",
   "execution_count": null,
   "id": "af57f045",
   "metadata": {},
   "outputs": [],
   "source": [
    "#SHAP Value 시각화\n",
    "shap.summary_plot(up_ensemble_shap_values,low_X_test)"
   ]
  },
  {
   "cell_type": "code",
   "execution_count": null,
   "id": "833493c2",
   "metadata": {},
   "outputs": [],
   "source": [
    "#결과 데이터셋 생성\n",
    "pred_res=pd.concat([up_test_pred,low_test_pred])\n",
    "result=pd.concat([tree_test_df,pred_res],axis=1)"
   ]
  },
  {
   "cell_type": "code",
   "execution_count": null,
   "id": "65274500",
   "metadata": {},
   "outputs": [],
   "source": [
    "#최종 성능 확인을 위한 nrmse 계산\n",
    "import math\n",
    "rmse = math.sqrt(mean_squared_error(result['사고율'], result['예상 사고율']))\n",
    "nrmse=rmse/result['사고율'].max()\n",
    "nrmse"
   ]
  },
  {
   "cell_type": "code",
   "execution_count": null,
   "id": "992a0214",
   "metadata": {},
   "outputs": [],
   "source": [
    "#언더라이팅에 활용할 고객 대시보드를 위해 고객 shap value 데이터셋 생성\n",
    "up_shap_df = pd.DataFrame(up_ensemble_shap_values.values, columns=up_X_test.columns)\n",
    "idx=up_X_test.index\n",
    "up_shap_df.set_index(idx,inplace=True)"
   ]
  },
  {
   "cell_type": "code",
   "execution_count": null,
   "id": "81ebeffc",
   "metadata": {},
   "outputs": [],
   "source": [
    "low_shap_df = pd.DataFrame(low_ensemble_shap_values.values, columns=low_X_test.columns)\n",
    "idx=low_X_test.index\n",
    "low_shap_df.set_index(idx,inplace=True)"
   ]
  },
  {
   "cell_type": "code",
   "execution_count": null,
   "id": "7c3b04ae",
   "metadata": {},
   "outputs": [],
   "source": [
    "shap_df=pd.concat([up_shap_df,low_shap_df],axis=0)"
   ]
  },
  {
   "cell_type": "code",
   "execution_count": null,
   "id": "7338834c",
   "metadata": {},
   "outputs": [],
   "source": [
    "shap_df.to_excel(\"고객 shap 데이터.xlsx\", index=False,encoding='cp949')"
   ]
  }
 ],
 "metadata": {
  "kernelspec": {
   "display_name": "Python 3 (ipykernel)",
   "language": "python",
   "name": "python3"
  },
  "language_info": {
   "codemirror_mode": {
    "name": "ipython",
    "version": 3
   },
   "file_extension": ".py",
   "mimetype": "text/x-python",
   "name": "python",
   "nbconvert_exporter": "python",
   "pygments_lexer": "ipython3",
   "version": "3.9.13"
  }
 },
 "nbformat": 4,
 "nbformat_minor": 5
}
